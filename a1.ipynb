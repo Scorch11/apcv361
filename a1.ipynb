{
 "cells": [
  {
   "cell_type": "markdown",
   "metadata": {
    "collapsed": true
   },
   "source": [
    "# Assignment 1 Space Cows Transportation\n"
   ]
  },
  {
   "cell_type": "markdown",
   "metadata": {
    "collapsed": true
   },
   "source": [
    "\n",
    "## Introduction\n",
    "In this assignment, a colony of Aucks (super-intelligent alien bio-engineers) has landed on Earth and has created new species of farm animals! The Aucks are performing their experiments on Earth, and plan on transporting the mutant animals back to their home planet of Aurock. In this problem set, you will implement algorithms to figure out how the aliens should shuttle their experimental animals back across space.\n",
    "\n"
   ]
  },
  {
   "cell_type": "markdown",
   "metadata": {},
   "source": [
    "## Getting Started \n",
    "\n",
    "Download Assignment1.zip from the website.\n",
    "\n",
    "Please do not rename the provided files, change any of the provided helper functions, change function/method names, or delete provided docstrings. You will need to keep ```a1_cow_data.txt```, and ```a1_cow_data_1.txt```, in the same folder as ```a1.ipynb```.\n"
   ]
  },
  {
   "cell_type": "markdown",
   "metadata": {},
   "source": [
    "## Problem Set Overview\n",
    "\n",
    "The aliens have succeeded in breeding cows that jump over the moon! Now they want to take home their mutant cows. The aliens want to take all chosen cows back, but their spaceship has a weight limit and they can only travel a limitted number of trips they have to take across the universe. Somehow, the aliens have evolved and developed breeding technology to make cows with integer weights and IQs.\n",
    "\n",
    "The data for the cows to be transported is stored in ```a1_cow_data.txt```, and another set of cows for another separate transport are in ```a1_cow_data_1.txt```. (You may use the two files to read data and test your implementation individually). All of your code for the problem solving in this assignment should go into ```a1.ipynb```--you need to expand the given notebook to include your Python code and discussion notes.  \n",
    "\n",
    "For each problem, I provide some skeleton code for you to start your problem solving. Note that most of the code definitions are not complete unless I point out the completion of some certain function such as **greedy** for Problem 3. For each code cell that contains only incomplete code, you need to extend the code implementation.  \n",
    "\n",
    "You also need to solve the problems in the order presented in this document.  That is, you should complete problem 1 first before you approach problems 2 and 3.  The solutions of the later problems are dependent on the solutions to earlier problems.  For example, in Problem 2, you need to parse a data file to create Cow objects.  The class definition of Cow for Problem 1 is needed to create the Cow objects for Problem 2.  "
   ]
  },
  {
   "cell_type": "markdown",
   "metadata": {},
   "source": [
    "# Problem 1: Defining Cow Class\n",
    "\n",
    "First we need to define a **Cow** class.  Each cow object state is described using name as a string and weight as an int. (You may check the Food class definition in the lecture notes as a reference when you are working on defining the Cow class.) \n",
    "\n",
    "Note that I provided some skeleton code below so that you may expand based on what is provided.  "
   ]
  },
  {
   "cell_type": "code",
   "execution_count": null,
   "metadata": {},
   "outputs": [],
   "source": [
    "#Problem 1\n",
    "\n",
    "class Cow(object):\n",
    "    \"\"\"\n",
    "    Cow is defined as a means to organize cow data including name and weight as \n",
    "    well as accessing name and weight from a cow object\n",
    "\n",
    "    Cow object data\n",
    "    name - cow name as a string\n",
    "    weight - cow weight as an int\n",
    "    IQ -cow intelligence as an int\n",
    "    \n",
    "    Methods to define\n",
    "    __init__\n",
    "    __str__\n",
    "    getName\n",
    "    getWeight\n",
    "    getIQ\n",
    "    getDensity\n",
    "\n",
    "    \"\"\"\n",
    "    def __init__(self, n, w, i):\n",
    "        self.name = n\n",
    "        self.weight = w\n",
    "        self.i = i\n",
    "        self.transported = 0\n",
    "    \n",
    "    # TODO: Your code here to define other methods\n",
    "\n",
    "#test code\n",
    "mary= Cow('mary', 3, 120)\n",
    "print(mary)\n",
    "print(mary.getDensity())\n"
   ]
  },
  {
   "cell_type": "markdown",
   "metadata": {},
   "source": [
    "Note the test code provided above doesn't provide a throughout checking and evaluation of your class definition.  It only checks the __init__, __str__, and getDensity methods.  You should extend the test code to evaluate other methods you define in the class definition.   The output of the above test code could be like\n",
    "\n",
    "<code>\n",
    "Cow mary: Weight 3, IQ 120\n",
    "40.0\n",
    "</code>\n",
    "\n",
    "The first output is determined by the definition of __str__ in the class definition. "
   ]
  },
  {
   "cell_type": "markdown",
   "metadata": {},
   "source": [
    "# Problem 2: Loading Cow Data\n",
    "\n",
    "Second we need to load the cow data from the data file ```a1_cow_data.txt```.\n",
    "The file ```a1_cow_data_1.txt``` is given as another file that you can read and test from, but for now, just work with a1_cow_data.txt.\n",
    "\n",
    "You can expect the data to be formatted in triples of ```x,y,z``` on each line, where ```x``` is the name of the cow, ```y``` is a number indicating how much the cow weighs in tons, and ```z``` is a number indicating the cow's IQ value. Here are the few lines\n",
    "of ```a1_cow_data.txt```: \n",
    "\n",
    "<code>\n",
    "Maggie,3,165\n",
    "Herman,7,126\n",
    "Betsy,9,122\n",
    "Oreo,6,104\n",
    "Moo Moo,3,151\n",
    "Milkshake,2,117\n",
    "Millie,5,84\n",
    "Lola,2,131\n",
    "Florence,2,101\n",
    "Henrietta,9,106\n",
    "</code>\n",
    "\n",
    "You can assume that all the cows have unique names.\n",
    "Hint: If you don’t remember how to read lines from a file, check out the online python documentation, which has a chapter on **Input and Output** that includes file I/O here: https://docs.python.org/3/tutorial/inputoutput.html\n",
    "\n",
    "Some functions that may be helpful:\n",
    "\n",
    "<code>\n",
    "str.split\n",
    "open\n",
    "file.readline\n",
    "file.close\n",
    "</code>\n",
    "\n"
   ]
  },
  {
   "cell_type": "code",
   "execution_count": 9,
   "metadata": {},
   "outputs": [
    {
     "name": "stdout",
     "output_type": "stream",
     "text": [
      "Maggie,3,165\r\n",
      "Herman,7,126\r\n",
      "Betsy,9,122\r\n",
      "Oreo,6,104\r\n",
      "Moo Moo,3,151\r\n",
      "Milkshake,2,117\r\n",
      "Millie,5,84\r\n",
      "Lola,2,131\r\n",
      "Florence,2,101\r\n",
      "Henrietta,9,106\r\n"
     ]
    }
   ],
   "source": [
    "! cat \"a1_cow_data.txt\""
   ]
  },
  {
   "cell_type": "code",
   "execution_count": 10,
   "metadata": {},
   "outputs": [
    {
     "name": "stdout",
     "output_type": "stream",
     "text": [
      "Miss Moo-dy,3,172\r\n",
      "Milkshake,4,102\r\n",
      "Lotus,10,149\r\n",
      "Miss Bella,2,103\r\n",
      "Horns,9,81\r\n",
      "Betsy,5,97\r\n",
      "Rose,3,155\r\n",
      "Dottie,6,91\r\n"
     ]
    }
   ],
   "source": [
    "! cat \"a1_cow_data_1.txt\"\n"
   ]
  },
  {
   "cell_type": "code",
   "execution_count": null,
   "metadata": {},
   "outputs": [],
   "source": [
    "# Problem 2\n",
    "def load_cows(filename):\n",
    "    \"\"\"\n",
    "    Read the contents of the given file.  Assumes the file contents contain\n",
    "    data in the form of comma-separated triples composed of cow name, weight, and iq, and return a\n",
    "    list containing Cow objects each of which has has a name, a weight, and an iq\n",
    "\n",
    "    Parameters:\n",
    "    filename - the name of the data file as a string\n",
    "\n",
    "    Returns:\n",
    "    a list of Cow objects\n",
    "    \"\"\"\n",
    "    #define a list to contain the to-be-created Cow objects\n",
    "    data = []\n",
    "    f = open(filename)\n",
    "    line = f.readline()\n",
    "    while line !='':\n",
    "        #parse the row data and create a Cow object \n",
    "        #Add the Cow object to the data list\n",
    "    return data\n",
    "\n",
    "\n",
    "\n",
    "data = load_cows(\"a1_cow_data.txt\")\n",
    "for i in range(len(data)):\n",
    "    print(data[i])\n",
    "\n"
   ]
  },
  {
   "cell_type": "markdown",
   "metadata": {},
   "source": [
    "By running the above test code, your code should get output like below\n",
    "<code>\n",
    " Cow Maggie: Weight 3, IQ 165\n",
    " Cow Herman: Weight 7, IQ 126\n",
    " Cow Betsy: Weight 9, IQ 122\n",
    " Cow Oreo: Weight 6, IQ 104\n",
    " Cow Moo Moo: Weight 3, IQ 151\n",
    " Cow Milkshake: Weight 2, IQ 117\n",
    " Cow Millie: Weight 5, IQ 84\n",
    " Cow Lola: Weight 2, IQ 131\n",
    " Cow Florence: Weight 2, IQ 101\n",
    " Cow Henrietta: Weight 9, IQ 106\n",
    "</code>\n",
    "\n",
    " \n",
    "Again, I would like to remind you that the __str__ method of the Cow object represented by data[i] is called when print(data[i]) is invoked. \n"
   ]
  },
  {
   "cell_type": "markdown",
   "metadata": {},
   "source": [
    "### Problem 3: Greedy Cow Transport \n",
    "\n",
    "One way of transporting cows is to always pick the cow that has the most intelligence density (IQ/weight) onto the spaceship first. This is an example of a ```greedy``` algorithm.  You may choose a criteria to use, which you think suitable to accomplish the goal ---to transport the maximum intelligence values of cows back home. \n",
    "\n",
    "Implement a greedy algorithm for transporting the cows back across space in\n",
    "**greedy_cow_transport**. The constraints include the weight limit for each space trip and the total number of trips the aliens can make.  The result should be a pair composed of two values: the first value presents the total sum of the IQs of the cows transported and the second is a list of lists, with each inner list containing cows (cow objects) transported on a particular trip \n",
    "\n",
    "\n",
    "\n",
    "To facilitate your problem solving, I provide a function definition of greedy, which is complete. (It means that you do NOT need to change anything.  I also provide some skeleton code for **greedy_cow_transport** including the function call of greedy on line 35. The function definition of **greedy** is based on the greedy algorithm we studied in the lecture.  \n",
    "\n"
   ]
  },
  {
   "cell_type": "code",
   "execution_count": 12,
   "metadata": {},
   "outputs": [],
   "source": [
    "\n",
    "#Implementation of Flexible Greedy \n",
    "def greedy(cows, maxCost, keyFunction):\n",
    "    \"\"\"\n",
    "    Uses a greedy approach based on a criterion to \n",
    "    determine a list of Cow objects \n",
    "    to take on a single trip by a spaceship that can carry \n",
    "    a certain amount of weight.\n",
    "    \n",
    "    Parameters:\n",
    "        cows - a list of Cow objects\n",
    "        maxCost - should be a positive int to indicate the maximum weight (tons) the trip can do\n",
    "        keyFunction - should be a function that is used to sort the cows\n",
    "                        and it maps an item to a number\n",
    "    Returns:\n",
    "        result - a list of Cows chosen to be transported by a trip\n",
    "        totalValue - an int value to keep track of the sum of IQ values of the transported Cow objects\n",
    "        totalCost - an int value to keep track of the sum of weights of the transfored Cow objects\n",
    "    \"\"\"\n",
    "    \n",
    "    #Attention check sorted function documentation\n",
    "    itemsCopy = sorted(cows, key = keyFunction,  \n",
    "                       reverse = True)\n",
    "    result = []\n",
    "    \n",
    "    totalValue, totalCost = 0, 0\n",
    "    \n",
    "    for i in range(len(itemsCopy)): #Attention\n",
    "        if (totalCost+itemsCopy[i].getWeight()) <= maxCost:  #Attention \n",
    "            result.append(itemsCopy[i])\n",
    "            totalCost += itemsCopy[i].getWeight()\n",
    "            totalValue += itemsCopy[i].getIQ()\n",
    "            \n",
    "    return (result, totalValue, totalCost)\n"
   ]
  },
  {
   "cell_type": "code",
   "execution_count": null,
   "metadata": {},
   "outputs": [],
   "source": [
    "# Problem 3\n",
    "\n",
    "def greedy_cow_transport(cows,oneTripWeightLimit=10, numberOfTrips=3):\n",
    "    \"\"\"\n",
    "    Uses a greedy heuristic to determine an allocation of cows that attempts to\n",
    "    maxminize the intelligence (sum of IQs) of the cows that can be transported back to Aurock. \n",
    "    The returned allocation of cows may or may not be optimal.\n",
    "    The greedy heuristic should follow the following method:\n",
    "\n",
    "    1. As long as the current trip can fit another cow based on your critera, add the cow that will fit\n",
    "        to the trip\n",
    "    2. Once the trip is full, begin a new trip to transport the remaining cows\n",
    "    3. Stop the trasportation after the number of limitted trips \n",
    "\n",
    "\n",
    "    Parameters:\n",
    "    cows - a list of cow objects\n",
    "    oneTripWeightLimit - weight limit of the spaceship (an int) for one trip\n",
    "    numberOfTrips -- limit of number of trips for the whole transportation\n",
    "    \n",
    "    Returns:\n",
    "    A tuple composed of two int values and a list. \n",
    "    The first value presents the total sum of the IQs of the cows transported\n",
    "    The second value presents the total sum of weights (tons) of the cows transported\n",
    "    The third is a list of lists, with each inner list containing cows (cow objects)\n",
    "    transported on a particular trip and the overall list containing all the\n",
    "    trips\n",
    "    \"\"\"\n",
    "    \n",
    "    trips = []\n",
    "    totalValue = 0\n",
    "    totalCost = 0\n",
    "    while numberOfTrips >0:\n",
    "        #call greedy to return one trip result and value\n",
    "        result, oneTripValue, oneTripCost = greedy(cows, oneTripWeightLimit, Cow.getDensity)\n",
    "                                      \n",
    "        #based on returned data from the greedy call,\n",
    "        #update the trips \n",
    "        #update totalValue by adding the sum of IQs of the cows transported by the single trip  \n",
    "        #update the totalCost by adding the sum of weights of the cows transported by the trip\n",
    "        #and update the cows so that cows is used to keep track of the cows that haven't been transported\n",
    "        #update another information you think necessary\n",
    "\n",
    "    return totalValue, totalCost, trips \n",
    "\n",
    "cows = load_cows(\"a1_cow_data.txt\")\n",
    "totalValue, totalCost, trips = greedy_cow_transport(cows)\n",
    "for i in range(len(trips)):\n",
    "    print(\"Trip \" + str(i) + \":\")\n",
    "    for j in range(len(trips[i])):\n",
    "        print(trips[i][j])\n",
    "    print(\"\\n\")\n",
    "print(\"Total IQs transported = \" + str(totalValue))\n",
    "print(\"Total weights (tons) transported = \" + str(totalCost))"
   ]
  },
  {
   "cell_type": "markdown",
   "metadata": {},
   "source": [
    "The output of the above test code should be like below\n",
    "\n",
    "<code>\n",
    "Trip 0:\n",
    " Cow Lola: Weight 2, IQ 131\n",
    " Cow Milkshake: Weight 2, IQ 117\n",
    " Cow Maggie: Weight 3, IQ 165\n",
    " Cow Florence: Weight 2, IQ 101\n",
    "\n",
    "\n",
    "Trip 1:\n",
    " Cow Moo Moo: Weight 3, IQ 151\n",
    " Cow Herman: Weight 7, IQ 126\n",
    "\n",
    "\n",
    "Trip 2:\n",
    " Cow Oreo: Weight 6, IQ 104\n",
    "\n",
    "\n",
    "Total IQs transported = 895\n",
    "Total weights (tons) transported = 25\n",
    "</code>\n"
   ]
  },
  {
   "cell_type": "markdown",
   "metadata": {},
   "source": [
    "### Problem 4: Writeup\n",
    "\n",
    "Answer the following questions:\n",
    "\n",
    "<li>Does the greedy algorithm return the optimal solution? Think: How do you evaluate greedy algorithms in general?  How about this case? </li>\n",
    "<li>If yes, why?\n",
    "<li>If not, what could be a solution that can find the optimal solution?  </li>\n",
    "\n",
    "Note that you can write your answers to the questions in this notebook document with your code implementations.   "
   ]
  },
  {
   "cell_type": "markdown",
   "metadata": {},
   "source": [
    "# Turn-in\n",
    "You need to turn in below for your submission:\n",
    "\n",
    "* Your notebook file that contains the code and presentation.  Note that you need to execute the code cells to generate output that should be similar to the output examples presented in this document.  My running environment is different from yours.  To make sure I evaluate your notebook fairly, you should provide me the output you ran at your side. After you run your code cells, you can save the notebook file.   \n",
    "* Any other supplementary documents you want to submit to D2L Assignments folder \n",
    "\n",
    "You need to package the files into a zip archive and upload the zip file to D2L assignment folder <b>Assignment 1</b>"
   ]
  }
 ],
 "metadata": {
  "kernelspec": {
   "display_name": "Python 3",
   "language": "python",
   "name": "python3"
  },
  "language_info": {
   "codemirror_mode": {
    "name": "ipython",
    "version": 3
   },
   "file_extension": ".py",
   "mimetype": "text/x-python",
   "name": "python",
   "nbconvert_exporter": "python",
   "pygments_lexer": "ipython3",
   "version": "3.9.1"
  }
 },
 "nbformat": 4,
 "nbformat_minor": 2
}
